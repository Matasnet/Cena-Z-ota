{
  "nbformat": 4,
  "nbformat_minor": 0,
  "metadata": {
    "colab": {
      "provenance": [],
      "authorship_tag": "ABX9TyME9VX7WXb9u1SWiQRO2Rx6",
      "include_colab_link": true
    },
    "kernelspec": {
      "name": "python3",
      "display_name": "Python 3"
    },
    "language_info": {
      "name": "python"
    }
  },
  "cells": [
    {
      "cell_type": "markdown",
      "metadata": {
        "id": "view-in-github",
        "colab_type": "text"
      },
      "source": [
        "<a href=\"https://colab.research.google.com/github/Matasnet/Cena-Zlota/blob/main/Cena_z%C5%82ota.ipynb\" target=\"_parent\"><img src=\"https://colab.research.google.com/assets/colab-badge.svg\" alt=\"Open In Colab\"/></a>"
      ]
    },
    {
      "cell_type": "markdown",
      "source": [
        "#Import bibliotek"
      ],
      "metadata": {
        "id": "tMTLZwHK5VGz"
      }
    },
    {
      "cell_type": "code",
      "source": [
        "import requests\n",
        "import pandas as pd\n",
        "from sklearn.model_selection import train_test_split\n",
        "from sklearn.linear_model import LinearRegression\n",
        "from sklearn.metrics import mean_squared_error\n",
        "from datetime import datetime, date\n"
      ],
      "metadata": {
        "id": "x1cOmy7798T-"
      },
      "execution_count": 135,
      "outputs": []
    },
    {
      "cell_type": "markdown",
      "source": [
        "\n",
        "# Pobierz dane z API NBP"
      ],
      "metadata": {
        "id": "ilx5eS_o5XgK"
      }
    },
    {
      "cell_type": "code",
      "source": [
        "start_date = '2024-01-01'\n",
        "end_date = date.today().strftime(\"%Y-%m-%d\")\n",
        "url = f'https://api.nbp.pl/api/cenyzlota/{start_date}/{end_date}/'\n",
        "response = requests.get(url)\n",
        "data = response.json()"
      ],
      "metadata": {
        "id": "8r7yXBTp5ZHR"
      },
      "execution_count": 136,
      "outputs": []
    },
    {
      "cell_type": "markdown",
      "source": [
        "\n",
        "# Przetwórz dane\n"
      ],
      "metadata": {
        "id": "hnboycs15aYg"
      }
    },
    {
      "cell_type": "code",
      "source": [
        "dates = []\n",
        "prices = []\n",
        "for item in data:\n",
        "    dates.append(datetime.strptime(item['data'], '%Y-%m-%d').date())\n",
        "    prices.append(float(item['cena']))"
      ],
      "metadata": {
        "id": "1PQFTlmv5aPL"
      },
      "execution_count": 137,
      "outputs": []
    },
    {
      "cell_type": "markdown",
      "source": [
        "\n",
        "# Tworzenie ramki danych pandas\n"
      ],
      "metadata": {
        "id": "yiqn52bb5cwh"
      }
    },
    {
      "cell_type": "code",
      "source": [
        "df = pd.DataFrame({'Date': dates, 'Price': prices})\n"
      ],
      "metadata": {
        "id": "AC1smFLs5d-J"
      },
      "execution_count": 138,
      "outputs": []
    },
    {
      "cell_type": "markdown",
      "source": [
        "# Konwersja dat na liczby dni\n",
        "\n"
      ],
      "metadata": {
        "id": "p3QPgvYF6Ntq"
      }
    },
    {
      "cell_type": "code",
      "source": [
        "start_date_num = df['Date'].min()\n",
        "df['Days'] = (df['Date'] - start_date_num).dt.days"
      ],
      "metadata": {
        "id": "W4m5nzsK6PWF"
      },
      "execution_count": 139,
      "outputs": []
    },
    {
      "cell_type": "markdown",
      "source": [
        "\n",
        "# Podziel dane na zestawy treningowy i testowy\n"
      ],
      "metadata": {
        "id": "gJ7u4o-E5etZ"
      }
    },
    {
      "cell_type": "code",
      "source": [
        "X = df[['Days']].values\n",
        "y = df['Price'].values\n",
        "X_train, X_test, y_train, y_test = train_test_split(X, y, test_size=0.2, random_state=42)\n"
      ],
      "metadata": {
        "id": "TyksfFAe5fy8"
      },
      "execution_count": 140,
      "outputs": []
    },
    {
      "cell_type": "markdown",
      "source": [
        "\n",
        "# Buduj model regresji liniowej\n"
      ],
      "metadata": {
        "id": "g1kaU2aT5g46"
      }
    },
    {
      "cell_type": "code",
      "source": [
        "model = LinearRegression()\n",
        "model.fit(X_train, y_train)\n",
        "print(\"Intercept:\", model.intercept_)\n",
        "print(\"Coefficient:\", model.coef_)"
      ],
      "metadata": {
        "colab": {
          "base_uri": "https://localhost:8080/"
        },
        "id": "MrB7Otqz5iAh",
        "outputId": "0e0b5b4e-f741-4afd-d00b-bce8590c4718"
      },
      "execution_count": 141,
      "outputs": [
        {
          "output_type": "stream",
          "name": "stdout",
          "text": [
            "Intercept: 262.0840333240362\n",
            "Coefficient: [-0.0294925]\n"
          ]
        }
      ]
    },
    {
      "cell_type": "markdown",
      "source": [
        "\n",
        "# Przewidywanie cen złota\n"
      ],
      "metadata": {
        "id": "kNsBohjg5ixY"
      }
    },
    {
      "cell_type": "code",
      "source": [
        "y_pred = model.predict(X_test)"
      ],
      "metadata": {
        "id": "AevAUAeB5kTx"
      },
      "execution_count": 142,
      "outputs": []
    },
    {
      "cell_type": "markdown",
      "source": [
        "\n",
        "# Ocena modelu\n"
      ],
      "metadata": {
        "id": "Or6_c_Lk5nOh"
      }
    },
    {
      "cell_type": "code",
      "source": [
        "mse = mean_squared_error(y_test, y_pred)\n",
        "print('Wartość błędu średniokwadratowego (MSE)', mse)"
      ],
      "metadata": {
        "colab": {
          "base_uri": "https://localhost:8080/"
        },
        "id": "NcLC1wcy5n6B",
        "outputId": "314c53dc-5d7c-4940-c63f-4f90b24bdbfe"
      },
      "execution_count": 143,
      "outputs": [
        {
          "output_type": "stream",
          "name": "stdout",
          "text": [
            "Wartość błędu średniokwadratowego (MSE) 2.560625047167713\n"
          ]
        }
      ]
    },
    {
      "cell_type": "markdown",
      "source": [
        "# Wyświetlanie wykresu\n"
      ],
      "metadata": {
        "id": "ruE2N55O_jTT"
      }
    },
    {
      "cell_type": "code",
      "source": [
        "plt.figure(figsize=(13, 6))\n",
        "\n",
        "plt.plot(df['Date'], df['Price'], label='Rzeczywista cena')\n",
        "\n",
        "plt.plot(df['Date'], model.predict(df[['Days']]), label='Przewidywana cena')\n",
        "\n",
        "plt.xlabel('Data')\n",
        "plt.ylabel('Cena złota')\n",
        "plt.title('Ceny złota z NBP (rzeczywista vs. przewidywana)')\n",
        "plt.legend()\n",
        "plt.grid(True)\n",
        "plt.show()"
      ],
      "metadata": {
        "id": "TWs4Q8tE_lxk"
      },
      "execution_count": null,
      "outputs": []
    }
  ]
}